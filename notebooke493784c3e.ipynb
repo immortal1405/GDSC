{
 "cells": [
  {
   "cell_type": "code",
   "execution_count": 1,
   "id": "c695df9e",
   "metadata": {
    "_cell_guid": "b1076dfc-b9ad-4769-8c92-a6c4dae69d19",
    "_uuid": "8f2839f25d086af736a60e9eeb907d3b93b6e0e5",
    "execution": {
     "iopub.execute_input": "2023-10-16T16:36:01.402349Z",
     "iopub.status.busy": "2023-10-16T16:36:01.401973Z",
     "iopub.status.idle": "2023-10-16T16:36:02.919871Z",
     "shell.execute_reply": "2023-10-16T16:36:02.918988Z"
    },
    "papermill": {
     "duration": 1.52429,
     "end_time": "2023-10-16T16:36:02.922144",
     "exception": false,
     "start_time": "2023-10-16T16:36:01.397854",
     "status": "completed"
    },
    "tags": []
   },
   "outputs": [],
   "source": [
    "import pandas as pd\n",
    "import numpy as np\n",
    "from sklearn.model_selection import RepeatedKFold\n",
    "from sklearn.preprocessing import MinMaxScaler\n",
    "from sklearn.linear_model import LassoLarsCV\n",
    "from sklearn.metrics import mean_squared_error"
   ]
  },
  {
   "cell_type": "code",
   "execution_count": 2,
   "id": "2dba8c98",
   "metadata": {
    "execution": {
     "iopub.execute_input": "2023-10-16T16:36:02.929644Z",
     "iopub.status.busy": "2023-10-16T16:36:02.929200Z",
     "iopub.status.idle": "2023-10-16T16:36:06.155642Z",
     "shell.execute_reply": "2023-10-16T16:36:06.154623Z"
    },
    "papermill": {
     "duration": 3.233496,
     "end_time": "2023-10-16T16:36:06.157981",
     "exception": false,
     "start_time": "2023-10-16T16:36:02.924485",
     "status": "completed"
    },
    "tags": []
   },
   "outputs": [],
   "source": [
    "train = pd.read_csv('/kaggle/input/gdsc-ml-nsut-recruitment-2023/train (7).csv')\n",
    "test = pd.read_csv(\"/kaggle/input/gdsc-ml-nsut-recruitment-2023/test (4).csv\")\n",
    "sample_submission = pd.read_csv(\"/kaggle/input/gdsc-ml-nsut-recruitment-2023/sample.csv\")\n",
    "train = train.drop(\"Unnamed: 0\", axis=1)"
   ]
  },
  {
   "cell_type": "code",
   "execution_count": 3,
   "id": "5d9c662c",
   "metadata": {
    "execution": {
     "iopub.execute_input": "2023-10-16T16:36:06.164041Z",
     "iopub.status.busy": "2023-10-16T16:36:06.163299Z",
     "iopub.status.idle": "2023-10-16T16:36:06.189933Z",
     "shell.execute_reply": "2023-10-16T16:36:06.188901Z"
    },
    "papermill": {
     "duration": 0.031971,
     "end_time": "2023-10-16T16:36:06.192185",
     "exception": false,
     "start_time": "2023-10-16T16:36:06.160214",
     "status": "completed"
    },
    "tags": []
   },
   "outputs": [],
   "source": [
    "train_x = train.drop(\"target\", axis=1)\n",
    "train_y = train['target']\n",
    "test_x = test[[f'C_{i}' for i in range(200)]]"
   ]
  },
  {
   "cell_type": "code",
   "execution_count": 4,
   "id": "cd4e819f",
   "metadata": {
    "execution": {
     "iopub.execute_input": "2023-10-16T16:36:06.197915Z",
     "iopub.status.busy": "2023-10-16T16:36:06.197538Z",
     "iopub.status.idle": "2023-10-16T16:36:06.252543Z",
     "shell.execute_reply": "2023-10-16T16:36:06.251577Z"
    },
    "papermill": {
     "duration": 0.060384,
     "end_time": "2023-10-16T16:36:06.254780",
     "exception": false,
     "start_time": "2023-10-16T16:36:06.194396",
     "status": "completed"
    },
    "tags": []
   },
   "outputs": [],
   "source": [
    "scaler = MinMaxScaler()\n",
    "x_train_sc = scaler.fit_transform(train_x)\n",
    "test_sc = scaler.transform(test_x)"
   ]
  },
  {
   "cell_type": "code",
   "execution_count": 5,
   "id": "13e70bda",
   "metadata": {
    "execution": {
     "iopub.execute_input": "2023-10-16T16:36:06.260591Z",
     "iopub.status.busy": "2023-10-16T16:36:06.260102Z",
     "iopub.status.idle": "2023-10-16T16:39:59.322939Z",
     "shell.execute_reply": "2023-10-16T16:39:59.321727Z"
    },
    "papermill": {
     "duration": 233.073071,
     "end_time": "2023-10-16T16:39:59.330037",
     "exception": false,
     "start_time": "2023-10-16T16:36:06.256966",
     "status": "completed"
    },
    "tags": []
   },
   "outputs": [
    {
     "name": "stdout",
     "output_type": "stream",
     "text": [
      "Best RMSE from repeated k-fold: 1.6670506064110575\n"
     ]
    }
   ],
   "source": [
    "rkf = RepeatedKFold(n_splits=50, n_repeats=10, random_state=42)\n",
    "\n",
    "best_rmse = float('inf')\n",
    "best_model = None\n",
    "\n",
    "for train_idx, val_idx in rkf.split(x_train_sc):\n",
    "    x_train_fold, x_val_fold = x_train_sc[train_idx], x_train_sc[val_idx]\n",
    "    y_train_fold, y_val_fold = train_y.iloc[train_idx], train_y.iloc[val_idx]\n",
    "\n",
    "    las = LassoLarsCV(eps=8, precompute=True, max_iter=500, cv=5, max_n_alphas=8, n_jobs=-1)\n",
    "    las.fit(x_train_fold, y_train_fold)\n",
    "    val_fold_preds = las.predict(x_val_fold)\n",
    "\n",
    "    mse_fold = mean_squared_error(y_val_fold, val_fold_preds)\n",
    "    rmse_fold = np.sqrt(mse_fold)\n",
    "\n",
    "    if rmse_fold < best_rmse:\n",
    "        best_rmse = rmse_fold\n",
    "        best_model = las\n",
    "        \n",
    "print(\"Best RMSE from repeated k-fold:\", best_rmse)"
   ]
  },
  {
   "cell_type": "code",
   "execution_count": 6,
   "id": "dcf32964",
   "metadata": {
    "execution": {
     "iopub.execute_input": "2023-10-16T16:39:59.339728Z",
     "iopub.status.busy": "2023-10-16T16:39:59.339251Z",
     "iopub.status.idle": "2023-10-16T16:39:59.910978Z",
     "shell.execute_reply": "2023-10-16T16:39:59.909821Z"
    },
    "papermill": {
     "duration": 0.579483,
     "end_time": "2023-10-16T16:39:59.913355",
     "exception": false,
     "start_time": "2023-10-16T16:39:59.333872",
     "status": "completed"
    },
    "tags": []
   },
   "outputs": [],
   "source": [
    "best_model.fit(x_train_sc, train_y)\n",
    "\n",
    "preds = best_model.predict(test_sc)\n",
    "sample_submission['target'] = preds\n",
    "sample_submission.to_csv(\"submission_repeated.csv\", index=False)"
   ]
  }
 ],
 "metadata": {
  "kernelspec": {
   "display_name": "Python 3",
   "language": "python",
   "name": "python3"
  },
  "language_info": {
   "codemirror_mode": {
    "name": "ipython",
    "version": 3
   },
   "file_extension": ".py",
   "mimetype": "text/x-python",
   "name": "python",
   "nbconvert_exporter": "python",
   "pygments_lexer": "ipython3",
   "version": "3.10.12"
  },
  "papermill": {
   "default_parameters": {},
   "duration": 244.098523,
   "end_time": "2023-10-16T16:40:02.536121",
   "environment_variables": {},
   "exception": null,
   "input_path": "__notebook__.ipynb",
   "output_path": "__notebook__.ipynb",
   "parameters": {},
   "start_time": "2023-10-16T16:35:58.437598",
   "version": "2.4.0"
  }
 },
 "nbformat": 4,
 "nbformat_minor": 5
}
